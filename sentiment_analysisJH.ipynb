{
 "cells": [
  {
   "cell_type": "markdown",
   "metadata": {},
   "source": [
    "### Basic Workflow\n",
    "\n",
    "1. Load and explore the data\n",
    "2. Preprocess the data\n",
    "3. Extract features\n",
    "4. Train the model\n",
    "5. Evaluate the model\n",
    "6. Analyze model behavior"
   ]
  },
  {
   "cell_type": "code",
   "execution_count": null,
   "metadata": {},
   "outputs": [],
   "source": [
    "import os\n",
    "import spacy\n",
    "\n",
    "import numpy as np\n",
    "import pandas as pd\n",
    "import pickle\n",
    "from typing import TypeAlias"
   ]
  },
  {
   "cell_type": "code",
   "execution_count": null,
   "metadata": {},
   "outputs": [],
   "source": [
    "FOLDER = \"/Users/johnhuang/Desktop/coding/Bag_of_Words/Data\"\n",
    "FILEPATH = f\"{FOLDER}/Tweets_5K.csv\""
   ]
  },
  {
   "cell_type": "code",
   "execution_count": null,
   "metadata": {},
   "outputs": [],
   "source": [
    "def load_data(filepath: str) -> tuple[list[str], list[int]]:\n",
    "    \"\"\"\n",
    "    Loads Twitter data into two lists.\n",
    "\n",
    "    Returns\n",
    "    -------\n",
    "    raw_tweets : list[str]\n",
    "        A list of all Tweets in the dataset\n",
    "    labels : list[int]\n",
    "        A list of the sentiments corresponding to each raw tweet encoded as integers,\n",
    "        -1 meaning negative, 0 meaning neutral, and 1 meaning positive\n",
    "    \"\"\"\n",
    "    dataset = pd.read_csv(filepath)\n",
    "    raw_tweets = dataset[\"text\"].astype(str).tolist()\n",
    "    labels=[]\n",
    "    for label in dataset[\"sentiment\"].astype(str).tolist():\n",
    "      if label == \"neutral\":\n",
    "        labels.append(0)\n",
    "      elif label == \"negative\":\n",
    "        labels.append(-1)\n",
    "      else:\n",
    "        labels.append(1)\n",
    "    return (raw_tweets, labels)"
   ]
  },
  {
   "cell_type": "code",
   "execution_count": null,
   "metadata": {},
   "outputs": [],
   "source": [
    "raw_tweets, labels = load_data(FILEPATH)\n",
    "for p, label in zip(raw_tweets[:10], labels[:10]):\n",
    "    print(f\"{label}:\\t{p}\\n\")"
   ]
  },
  {
   "cell_type": "code",
   "execution_count": null,
   "metadata": {},
   "outputs": [],
   "source": [
    "import matplotlib.pyplot as plt\n",
    "\n",
    "plt.figure()\n",
    "pd.Series(labels).value_counts().plot.bar(title=\"Sentiment Distribution in Tweets\")\n",
    "plt.xticks(rotation=0)\n",
    "plt.xlabel(\"Sentiment\")\n",
    "plt.ylabel(\"Number of Tweets\")\n",
    "plt.show()"
   ]
  }
 ],
 "metadata": {
  "language_info": {
   "name": "python"
  },
  "orig_nbformat": 4
 },
 "nbformat": 4,
 "nbformat_minor": 2
}
